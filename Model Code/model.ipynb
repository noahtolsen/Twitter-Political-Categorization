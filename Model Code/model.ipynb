{
 "cells": [
  {
   "cell_type": "code",
   "execution_count": 8,
   "metadata": {},
   "outputs": [],
   "source": [
    "import pandas as pd \n",
    "import os \n",
    "import numpy as np"
   ]
  },
  {
   "cell_type": "code",
   "execution_count": 5,
   "metadata": {},
   "outputs": [
    {
     "name": "stderr",
     "output_type": "stream",
     "text": [
      "/Users/noah/miniconda3/lib/python3.7/site-packages/IPython/core/interactiveshell.py:3058: DtypeWarning: Columns (17,32,33,34,35,38,39,40,44,45,46) have mixed types. Specify dtype option on import or set low_memory=False.\n",
      "  interactivity=interactivity, compiler=compiler, result=result)\n"
     ]
    }
   ],
   "source": [
    "processed = pd.read_csv('Data/processed_tweets.csv')"
   ]
  },
  {
   "cell_type": "code",
   "execution_count": 30,
   "metadata": {},
   "outputs": [
    {
     "name": "stdout",
     "output_type": "stream",
     "text": [
      "<class 'pandas.core.frame.DataFrame'>\n",
      "RangeIndex: 1148239 entries, 0 to 1148238\n",
      "Data columns (total 97 columns):\n",
      "user_id                    1148239 non-null object\n",
      "status_id                  1148239 non-null object\n",
      "created_at                 1148239 non-null object\n",
      "screen_name                1148239 non-null object\n",
      "text                       1148239 non-null object\n",
      "source                     1148239 non-null object\n",
      "display_text_width         1148239 non-null int64\n",
      "reply_to_status_id         112384 non-null object\n",
      "reply_to_user_id           118204 non-null object\n",
      "reply_to_screen_name       118204 non-null object\n",
      "is_quote                   1148239 non-null bool\n",
      "is_retweet                 1148239 non-null bool\n",
      "favorite_count             1148239 non-null int64\n",
      "retweet_count              1148239 non-null int64\n",
      "quote_count                0 non-null float64\n",
      "reply_count                0 non-null float64\n",
      "hashtags                   467286 non-null object\n",
      "symbols                    45 non-null object\n",
      "urls_url                   450320 non-null object\n",
      "urls_t.co                  450320 non-null object\n",
      "urls_expanded_url          450320 non-null object\n",
      "media_url                  293457 non-null object\n",
      "media_t.co                 293457 non-null object\n",
      "media_expanded_url         293457 non-null object\n",
      "media_type                 293457 non-null object\n",
      "ext_media_url              293457 non-null object\n",
      "ext_media_t.co             293457 non-null object\n",
      "ext_media_expanded_url     293457 non-null object\n",
      "ext_media_type             0 non-null float64\n",
      "mentions_user_id           555737 non-null object\n",
      "mentions_screen_name       555737 non-null object\n",
      "lang                       1148239 non-null object\n",
      "quoted_status_id           95233 non-null object\n",
      "quoted_text                95233 non-null object\n",
      "quoted_created_at          95233 non-null object\n",
      "quoted_source              95233 non-null object\n",
      "quoted_favorite_count      95233 non-null float64\n",
      "quoted_retweet_count       95233 non-null float64\n",
      "quoted_user_id             95233 non-null object\n",
      "quoted_screen_name         95233 non-null object\n",
      "quoted_name                95233 non-null object\n",
      "quoted_followers_count     95233 non-null float64\n",
      "quoted_friends_count       95233 non-null float64\n",
      "quoted_statuses_count      95233 non-null float64\n",
      "quoted_location            83408 non-null object\n",
      "quoted_description         94134 non-null object\n",
      "quoted_verified            95233 non-null object\n",
      "retweet_status_id          239064 non-null object\n",
      "retweet_text               239064 non-null object\n",
      "retweet_created_at         239064 non-null object\n",
      "retweet_source             239063 non-null object\n",
      "retweet_favorite_count     239064 non-null float64\n",
      "retweet_retweet_count      239064 non-null float64\n",
      "retweet_user_id            239064 non-null object\n",
      "retweet_screen_name        239064 non-null object\n",
      "retweet_name               239064 non-null object\n",
      "retweet_followers_count    239064 non-null float64\n",
      "retweet_friends_count      239064 non-null float64\n",
      "retweet_statuses_count     239064 non-null float64\n",
      "retweet_location           211021 non-null object\n",
      "retweet_description        236088 non-null object\n",
      "retweet_verified           239064 non-null object\n",
      "place_url                  18351 non-null object\n",
      "place_name                 18351 non-null object\n",
      "place_full_name            18351 non-null object\n",
      "place_type                 18351 non-null object\n",
      "country                    18348 non-null object\n",
      "country_code               18348 non-null object\n",
      "geo_coords                 1148239 non-null object\n",
      "coords_coords              1148239 non-null object\n",
      "bbox_coords                1148239 non-null object\n",
      "status_url                 1148239 non-null object\n",
      "name                       1148239 non-null object\n",
      "location                   892705 non-null object\n",
      "description                1145627 non-null object\n",
      "url                        1089789 non-null object\n",
      "protected                  1148239 non-null bool\n",
      "followers_count            1148239 non-null int64\n",
      "friends_count              1148239 non-null int64\n",
      "listed_count               1148239 non-null int64\n",
      "statuses_count             1148239 non-null int64\n",
      "favourites_count           1148239 non-null int64\n",
      "account_created_at         1148239 non-null object\n",
      "verified                   1148239 non-null bool\n",
      "profile_url                1089789 non-null object\n",
      "profile_expanded_url       1086699 non-null object\n",
      "account_lang               0 non-null float64\n",
      "profile_banner_url         1128775 non-null object\n",
      "profile_background_url     1039626 non-null object\n",
      "profile_image_url          1148239 non-null object\n",
      "Score                      1148239 non-null float64\n",
      "Body                       1148239 non-null object\n",
      "Party                      1148239 non-null object\n",
      "nchar                      1148239 non-null int64\n",
      "nwords                     1148239 non-null int64\n",
      "group                      1148239 non-null int64\n",
      "group2                     1148239 non-null object\n",
      "dtypes: bool(4), float64(15), int64(11), object(67)\n",
      "memory usage: 819.1+ MB\n"
     ]
    }
   ],
   "source": [
    "data = pd.read_csv(\"Data/processed_tweets.csv\", index_col = False)\n",
    "data.describe()\n",
    "data.info()"
   ]
  },
  {
   "cell_type": "code",
   "execution_count": 9,
   "metadata": {},
   "outputs": [],
   "source": [
    "#Loading gloVe Word Embeddings\n",
    "\n",
    "embeddings_dict = {}\n",
    "with open(\"Data/glove.twitter.27B/glove.twitter.27B.50d.txt\", 'r') as f:\n",
    "    for line in f:\n",
    "        values = line.split()\n",
    "        word = values[0]\n",
    "        vector = np.asarray(values[1:], \"float32\")\n",
    "        embeddings_dict[word] = vector"
   ]
  },
  {
   "cell_type": "code",
   "execution_count": null,
   "metadata": {},
   "outputs": [],
   "source": [
    "num_classes = 5\n",
    "# One hot encoding target\n",
    "def onehot(arr, num_class):\n",
    "    return np.eye(num_class)[np.array(arr.astype(int)).reshape(-1)]\n",
    "\n",
    "y = onehot(processed[\"group\"], num_classes)"
   ]
  },
  {
   "cell_type": "code",
   "execution_count": 45,
   "metadata": {},
   "outputs": [],
   "source": [
    "def points_to_class(points):\n",
    "    if points ==1 :\n",
    "        return 0\n",
    "    elif points == 2:\n",
    "        return 1\n",
    "    elif points == 3:\n",
    "        return 2\n",
    "    elif points == 4:\n",
    "        return 3\n",
    "    else:\n",
    "        return 4\n",
    "    \n",
    "data[\"pol_rating\"] = data[\"group\"].apply(points_to_class)"
   ]
  },
  {
   "cell_type": "code",
   "execution_count": 47,
   "metadata": {},
   "outputs": [
    {
     "data": {
      "text/plain": [
       "array([0, 1, 2, 3, 4])"
      ]
     },
     "execution_count": 47,
     "metadata": {},
     "output_type": "execute_result"
    }
   ],
   "source": [
    "np.unique(data['pol_rating'])"
   ]
  },
  {
   "cell_type": "code",
   "execution_count": 49,
   "metadata": {},
   "outputs": [
    {
     "data": {
      "text/plain": [
       "array([[0., 0., 1., 0., 0.],\n",
       "       [0., 0., 1., 0., 0.],\n",
       "       [0., 0., 1., 0., 0.],\n",
       "       ...,\n",
       "       [0., 1., 0., 0., 0.],\n",
       "       [1., 0., 0., 0., 0.],\n",
       "       [0., 1., 0., 0., 0.]])"
      ]
     },
     "execution_count": 49,
     "metadata": {},
     "output_type": "execute_result"
    }
   ],
   "source": [
    "np.eye(5)[np.array(data[\"pol_rating\"].astype(int)).reshape(-1)]"
   ]
  },
  {
   "cell_type": "code",
   "execution_count": 50,
   "metadata": {},
   "outputs": [],
   "source": [
    "def onehot(arr, num_class):\n",
    "    return np.eye(num_class)[np.array(arr.astype(int)).reshape(-1)]\n",
    "\n",
    "y = onehot(data[\"pol_rating\"], num_classes)"
   ]
  },
  {
   "cell_type": "code",
   "execution_count": 70,
   "metadata": {},
   "outputs": [],
   "source": [
    "from sklearn.model_selection import train_test_split\n",
    "X_train, X_val, y_train, y_val = train_test_split(data[\"text\"], y, test_size = 0.05)"
   ]
  },
  {
   "cell_type": "code",
   "execution_count": 68,
   "metadata": {},
   "outputs": [],
   "source": [
    "from nltk.tokenize.treebank import TreebankWordDetokenizer\n",
    "from nltk.corpus import stopwords\n",
    "from nltk import word_tokenize\n",
    "\n",
    "\n",
    "\n",
    "stopwords = set(stopwords.words('english'))\n",
    "\n",
    "detokenizer = TreebankWordDetokenizer()\n",
    "\n",
    "def clean_description(desc):\n",
    "    desc = word_tokenize(desc.lower())\n",
    "    desc = [token for token in desc if token not in stopwords and token.isalpha()]\n",
    "    return detokenizer.detokenize(desc)\n",
    "\n",
    "data[\"cleaned_text\"] = data[\"text\"].apply(clean_description)"
   ]
  },
  {
   "cell_type": "code",
   "execution_count": 71,
   "metadata": {},
   "outputs": [],
   "source": [
    "#Model\n",
    "from keras.models import Model, load_model\n",
    "from keras.layers import Dense, Embedding, Input, Activation, CuDNNGRU, Bidirectional, Dropout, GlobalMaxPooling1D\n",
    "from keras.preprocessing.text import Tokenizer\n",
    "from keras.preprocessing.sequence import pad_sequences\n",
    "from keras.callbacks import EarlyStopping, ModelCheckpoint, Callback\n",
    "\n",
    "#parameters\n",
    "num_classes = 5\n",
    "dims = 50 \n",
    "epochs = 50\n",
    "batch_size = 128\n",
    "max_len = 220\n",
    "\n",
    "tokenizer = Tokenizer(num_words = None)\n",
    "tokenizer.fit_on_texts(X_train)\n",
    "\n",
    "\n",
    "sequences_train = tokenizer.texts_to_sequences(X_train)\n",
    "\n",
    "\n",
    "X_train = pad_sequences(sequences_train, maxlen=max_len)\n",
    "\n",
    "sequences_val = tokenizer.texts_to_sequences(X_val)\n",
    "X_val = pad_sequences(sequences_val, maxlen = max_len)\n",
    "\n",
    "word_index = tokenizer.word_index\n",
    "                \n",
    "\n",
    "embedding_matrix = np.zeros((len(word_index) + 1, dims))\n",
    "        \n",
    "for word, i in word_index.items():\n",
    "    embedding_vector = embeddings_dict.get(word)\n",
    "    if embedding_vector is not None:\n",
    "        embedding_matrix[i] = embedding_vector"
   ]
  },
  {
   "cell_type": "code",
   "execution_count": 74,
   "metadata": {},
   "outputs": [],
   "source": [
    "class_weights = {0: 1,\n",
    "                1: 1,\n",
    "                2: 1, \n",
    "                3: 1,\n",
    "                4: 1}"
   ]
  },
  {
   "cell_type": "code",
   "execution_count": 75,
   "metadata": {},
   "outputs": [
    {
     "name": "stdout",
     "output_type": "stream",
     "text": [
      "WARNING:tensorflow:From /Users/noah/miniconda3/lib/python3.7/site-packages/tensorflow/python/ops/math_ops.py:3066: to_int32 (from tensorflow.python.ops.math_ops) is deprecated and will be removed in a future version.\n",
      "Instructions for updating:\n",
      "Use tf.cast instead.\n",
      "WARNING:tensorflow:From /Users/noah/miniconda3/lib/python3.7/site-packages/tensorflow/python/ops/math_grad.py:102: div (from tensorflow.python.ops.math_ops) is deprecated and will be removed in a future version.\n",
      "Instructions for updating:\n",
      "Deprecated in favor of operator or tf.math.divide.\n",
      "Train on 1090827 samples, validate on 57412 samples\n",
      "Epoch 1/50\n",
      "1090827/1090827 [==============================] - 3206s 3ms/step - loss: 1.4721 - accuracy: 0.3320 - val_loss: 1.4248 - val_accuracy: 0.3557\n",
      "\n",
      "Epoch 00001: val_loss improved from inf to 1.42484, saving model to model.h5\n",
      "Epoch 2/50\n",
      "1090827/1090827 [==============================] - 3233s 3ms/step - loss: 1.4143 - accuracy: 0.3648 - val_loss: 1.4030 - val_accuracy: 0.3709\n",
      "\n",
      "Epoch 00002: val_loss improved from 1.42484 to 1.40300, saving model to model.h5\n",
      "Epoch 3/50\n",
      "1090827/1090827 [==============================] - 3223s 3ms/step - loss: 1.3912 - accuracy: 0.3773 - val_loss: 1.3836 - val_accuracy: 0.3820\n",
      "\n",
      "Epoch 00003: val_loss improved from 1.40300 to 1.38363, saving model to model.h5\n",
      "Epoch 4/50\n",
      "1090827/1090827 [==============================] - 3326s 3ms/step - loss: 1.3758 - accuracy: 0.3852 - val_loss: 1.3698 - val_accuracy: 0.3853\n",
      "\n",
      "Epoch 00004: val_loss improved from 1.38363 to 1.36980, saving model to model.h5\n",
      "Epoch 5/50\n",
      "1090827/1090827 [==============================] - 3269s 3ms/step - loss: 1.3645 - accuracy: 0.3913 - val_loss: 1.3696 - val_accuracy: 0.3879\n",
      "\n",
      "Epoch 00005: val_loss improved from 1.36980 to 1.36962, saving model to model.h5\n",
      "Epoch 6/50\n",
      "1090827/1090827 [==============================] - 3336s 3ms/step - loss: 1.3555 - accuracy: 0.3960 - val_loss: 1.3595 - val_accuracy: 0.3920\n",
      "\n",
      "Epoch 00006: val_loss improved from 1.36962 to 1.35949, saving model to model.h5\n",
      "Epoch 7/50\n",
      "1090827/1090827 [==============================] - 3333s 3ms/step - loss: 1.3488 - accuracy: 0.3993 - val_loss: 1.3550 - val_accuracy: 0.3937\n",
      "\n",
      "Epoch 00007: val_loss improved from 1.35949 to 1.35505, saving model to model.h5\n",
      "Epoch 8/50\n",
      "1090827/1090827 [==============================] - 3313s 3ms/step - loss: 1.3426 - accuracy: 0.4028 - val_loss: 1.3516 - val_accuracy: 0.3963\n",
      "\n",
      "Epoch 00008: val_loss improved from 1.35505 to 1.35160, saving model to model.h5\n",
      "Epoch 9/50\n",
      "1090827/1090827 [==============================] - 3281s 3ms/step - loss: 1.3375 - accuracy: 0.4051 - val_loss: 1.3534 - val_accuracy: 0.3960\n",
      "\n",
      "Epoch 00009: val_loss did not improve from 1.35160\n",
      "Epoch 10/50\n",
      "1090827/1090827 [==============================] - 3283s 3ms/step - loss: 1.3329 - accuracy: 0.4077 - val_loss: 1.3439 - val_accuracy: 0.4011\n",
      "\n",
      "Epoch 00010: val_loss improved from 1.35160 to 1.34390, saving model to model.h5\n",
      "Epoch 11/50\n",
      "1090827/1090827 [==============================] - 3282s 3ms/step - loss: 1.3290 - accuracy: 0.4094 - val_loss: 1.3381 - val_accuracy: 0.4042\n",
      "\n",
      "Epoch 00011: val_loss improved from 1.34390 to 1.33813, saving model to model.h5\n",
      "Epoch 12/50\n",
      "1090827/1090827 [==============================] - 3280s 3ms/step - loss: 1.3252 - accuracy: 0.4116 - val_loss: 1.3406 - val_accuracy: 0.4029\n",
      "\n",
      "Epoch 00012: val_loss did not improve from 1.33813\n",
      "Epoch 13/50\n",
      "1090827/1090827 [==============================] - 3283s 3ms/step - loss: 1.3225 - accuracy: 0.4127 - val_loss: 1.3371 - val_accuracy: 0.4065\n",
      "\n",
      "Epoch 00013: val_loss improved from 1.33813 to 1.33708, saving model to model.h5\n",
      "Epoch 14/50\n",
      "1090827/1090827 [==============================] - 3284s 3ms/step - loss: 1.3202 - accuracy: 0.4142 - val_loss: 1.3376 - val_accuracy: 0.4071\n",
      "\n",
      "Epoch 00014: val_loss did not improve from 1.33708\n",
      "Epoch 15/50\n",
      "1090827/1090827 [==============================] - 3283s 3ms/step - loss: 1.3173 - accuracy: 0.4155 - val_loss: 1.3368 - val_accuracy: 0.4066\n",
      "\n",
      "Epoch 00015: val_loss improved from 1.33708 to 1.33684, saving model to model.h5\n",
      "Epoch 16/50\n",
      "1090827/1090827 [==============================] - 3285s 3ms/step - loss: 1.3153 - accuracy: 0.4166 - val_loss: 1.3389 - val_accuracy: 0.4048\n",
      "\n",
      "Epoch 00016: val_loss did not improve from 1.33684\n",
      "Epoch 17/50\n",
      "1090827/1090827 [==============================] - 3266s 3ms/step - loss: 1.3129 - accuracy: 0.4177 - val_loss: 1.3377 - val_accuracy: 0.4044\n",
      "\n",
      "Epoch 00017: val_loss did not improve from 1.33684\n",
      "Epoch 18/50\n",
      "1090827/1090827 [==============================] - 3203s 3ms/step - loss: 1.3115 - accuracy: 0.4184 - val_loss: 1.3312 - val_accuracy: 0.4087\n",
      "\n",
      "Epoch 00018: val_loss improved from 1.33684 to 1.33124, saving model to model.h5\n",
      "Epoch 19/50\n",
      "1090827/1090827 [==============================] - 3137s 3ms/step - loss: 1.3095 - accuracy: 0.4188 - val_loss: 1.3317 - val_accuracy: 0.4097\n",
      "\n",
      "Epoch 00019: val_loss did not improve from 1.33124\n",
      "Epoch 20/50\n",
      "1090827/1090827 [==============================] - 3171s 3ms/step - loss: 1.3075 - accuracy: 0.4206 - val_loss: 1.3346 - val_accuracy: 0.4074\n",
      "\n",
      "Epoch 00020: val_loss did not improve from 1.33124\n",
      "Epoch 21/50\n",
      "1090827/1090827 [==============================] - 3228s 3ms/step - loss: 1.3062 - accuracy: 0.4207 - val_loss: 1.3361 - val_accuracy: 0.4064\n",
      "\n",
      "Epoch 00021: val_loss did not improve from 1.33124\n"
     ]
    },
    {
     "data": {
      "text/plain": [
       "<keras.callbacks.callbacks.History at 0x7fb0fe5899e8>"
      ]
     },
     "execution_count": 75,
     "metadata": {},
     "output_type": "execute_result"
    }
   ],
   "source": [
    "#Fit\n",
    "from keras.layers import GRU\n",
    "embedding_layer = Embedding(len(word_index) + 1, embedding_dim, weights = [embedding_matrix], input_length = max_len, trainable = False) \n",
    "input= Input(shape=(max_len, ), dtype = 'int32')\n",
    "embedded_sequences = embedding_layer(input) \n",
    "x = Bidirectional(GRU(50, return_sequences=True))(embedded_sequences)\n",
    "x = GlobalMaxPooling1D()(x)\n",
    "x = Dense(50, activation = 'relu')(x)\n",
    "x = Dropout(0.1)(x)\n",
    "output = Dense(num_classes, activation='softmax')(x)\n",
    "model = Model(inputs=input, outputs=output)\n",
    "model.compile(loss=\"categorical_crossentropy\", optimizer='adam', metrics=['accuracy'])\n",
    "        \n",
    "checkpoint = ModelCheckpoint(\"modelOne\", monitor='val_loss', verbose=1, save_best_only=True, mode='min')\n",
    "early = EarlyStopping(monitor='val_loss', mode='min', patience=3)\n",
    "callback = [checkpoint, early]\n",
    "        \n",
    "model.fit(X_train, y_train, batch_size=batch_size, epochs=epochs, validation_data=(X_val, y_val), callbacks=callback, class_weight = class_weights)"
   ]
  },
  {
   "cell_type": "code",
   "execution_count": 77,
   "metadata": {},
   "outputs": [
    {
     "ename": "NameError",
     "evalue": "name 'num_class' is not defined",
     "output_type": "error",
     "traceback": [
      "\u001b[0;31m---------------------------------------------------------------------------\u001b[0m",
      "\u001b[0;31mNameError\u001b[0m                                 Traceback (most recent call last)",
      "\u001b[0;32m<ipython-input-77-4804160f6f28>\u001b[0m in \u001b[0;36m<module>\u001b[0;34m\u001b[0m\n\u001b[1;32m     11\u001b[0m \u001b[0;34m\u001b[0m\u001b[0m\n\u001b[1;32m     12\u001b[0m \u001b[0;31m# Actual\u001b[0m\u001b[0;34m\u001b[0m\u001b[0;34m\u001b[0m\u001b[0;34m\u001b[0m\u001b[0m\n\u001b[0;32m---> 13\u001b[0;31m \u001b[0mtrue_test\u001b[0m \u001b[0;34m=\u001b[0m \u001b[0monehot\u001b[0m\u001b[0;34m(\u001b[0m\u001b[0mtest\u001b[0m\u001b[0;34m[\u001b[0m\u001b[0;34m\"rating\"\u001b[0m\u001b[0;34m]\u001b[0m\u001b[0;34m,\u001b[0m \u001b[0mnum_class\u001b[0m\u001b[0;34m)\u001b[0m\u001b[0;34m\u001b[0m\u001b[0;34m\u001b[0m\u001b[0m\n\u001b[0m\u001b[1;32m     14\u001b[0m \u001b[0mtrue_test\u001b[0m \u001b[0;34m=\u001b[0m \u001b[0;34m[\u001b[0m\u001b[0mnp\u001b[0m\u001b[0;34m.\u001b[0m\u001b[0margmax\u001b[0m\u001b[0;34m(\u001b[0m\u001b[0mx\u001b[0m\u001b[0;34m)\u001b[0m \u001b[0;32mfor\u001b[0m \u001b[0mx\u001b[0m \u001b[0;32min\u001b[0m \u001b[0mtrue_test\u001b[0m\u001b[0;34m]\u001b[0m\u001b[0;34m\u001b[0m\u001b[0;34m\u001b[0m\u001b[0m\n\u001b[1;32m     15\u001b[0m \u001b[0;34m\u001b[0m\u001b[0m\n",
      "\u001b[0;31mNameError\u001b[0m: name 'num_class' is not defined"
     ]
    }
   ],
   "source": [
    "from sklearn.metrics import accuracy_score\n",
    "\n",
    "test = data\n",
    "\n",
    "sequences_test = tokenizer.texts_to_sequences(test[\"text\"])\n",
    "X_test = pad_sequences(sequences_test, maxlen=max_len)\n",
    "\n",
    "# Predictions\n",
    "pred_test = model.predict(X_test)\n",
    "pred_test = [np.argmax(x) for x in pred_test]\n",
    "\n"
   ]
  },
  {
   "cell_type": "code",
   "execution_count": 78,
   "metadata": {},
   "outputs": [],
   "source": [
    "\n",
    "true_test = onehot(test[\"pol_rating\"], 5)\n",
    "true_test = [np.argmax(x) for x in true_test]\n",
    "\n",
    "\n",
    "accuracy = accuracy_score(true_test, pred_test)"
   ]
  },
  {
   "cell_type": "code",
   "execution_count": 87,
   "metadata": {},
   "outputs": [
    {
     "data": {
      "image/png": "[encoded data removed]",
      "text/plain": [
       "<Figure size 432x288 with 2 Axes>"
      ]
     },
     "metadata": {
      "needs_background": "light"
     },
     "output_type": "display_data"
    }
   ],
   "source": [
    "from sklearn.metrics import confusion_matrix\n",
    "import matplotlib.pyplot as plt\n",
    "cm = confusion_matrix(true_test, pred_test)\n",
    "cm = cm.astype('float') / cm.sum(axis=1)[:, np.newaxis]\n",
    "\n",
    "plt.imshow(cm, interpolation='nearest', cmap=plt.cm.Blues)\n",
    "\n",
    "class_name = [\"Very Liberal\", \"Moderately Liberal\", \"Moderate\", \"Moderately Conservative\", \"Very Conservative\"]\n",
    "plt.colorbar()\n",
    "tick_marks = np.arange(len(class_name))\n",
    "plt.xticks(tick_marks, class_name, rotation=45)\n",
    "plt.yticks(tick_marks, class_name)\n",
    "\n",
    "plt.show()"
   ]
  },
  {
   "cell_type": "code",
   "execution_count": 83,
   "metadata": {},
   "outputs": [
    {
     "data": {
      "text/plain": [
       "0.42466507408300885"
      ]
     },
     "execution_count": 83,
     "metadata": {},
     "output_type": "execute_result"
    }
   ],
   "source": [
    "accuracy"
   ]
  },
  {
   "cell_type": "code",
   "execution_count": 88,
   "metadata": {},
   "outputs": [
    {
     "data": {
      "text/plain": [
       "array([[0.66668496, 0.16227752, 0.03863415, 0.10505336, 0.02735001],\n",
       "       [0.48673485, 0.28025794, 0.06173995, 0.1402975 , 0.03096976],\n",
       "       [0.25027999, 0.16052945, 0.2313174 , 0.28200473, 0.07586842],\n",
       "       [0.13604564, 0.07891284, 0.0682366 , 0.59019898, 0.12660594],\n",
       "       [0.1474032 , 0.06894293, 0.06468999, 0.41887381, 0.30009007]])"
      ]
     },
     "execution_count": 88,
     "metadata": {},
     "output_type": "execute_result"
    }
   ],
   "source": [
    "cm"
   ]
  },
  {
   "cell_type": "code",
   "execution_count": 101,
   "metadata": {},
   "outputs": [],
   "source": [
    "#Model 2\n",
    "model2_data = data = pd.read_csv(\"Data/processed_tweets.csv\", index_col = False)\n"
   ]
  },
  {
   "cell_type": "code",
   "execution_count": 96,
   "metadata": {},
   "outputs": [
    {
     "name": "stdout",
     "output_type": "stream",
     "text": [
      "Training Dimensions: (918591, 97)\n",
      "Testing Dimensions: (229648, 97)\n"
     ]
    }
   ],
   "source": [
    "print('Training Dimensions: '+ str(train2.shape))\n",
    "print('Testing Dimensions: '+ str(test2.shape))"
   ]
  },
  {
   "cell_type": "code",
   "execution_count": 102,
   "metadata": {},
   "outputs": [],
   "source": [
    "def points_to_class(group):\n",
    "    if group < 2  :\n",
    "        return 0\n",
    "    elif group == 2:\n",
    "        return 1\n",
    "    else:\n",
    "        return 2\n",
    "    \n",
    "model2_data[\"newgroup\"] = model2_data[\"group\"].apply(points_to_class)\n",
    "model2_data[\"cleaned_text\"] = model2_data[\"text\"].apply(clean_description)\n",
    "train2, test2 = train_test_split(model2_data, test_size=0.2)"
   ]
  },
  {
   "cell_type": "code",
   "execution_count": 103,
   "metadata": {},
   "outputs": [],
   "source": [
    "num_classes = 3\n",
    "y = onehot(train2[\"newgroup\"], num_classes)"
   ]
  },
  {
   "cell_type": "code",
   "execution_count": 104,
   "metadata": {},
   "outputs": [],
   "source": [
    "num_classes = 3\n",
    "dims = 50 \n",
    "epochs = 50\n",
    "batch_size = 128\n",
    "max_len = 220\n",
    "X_train, X_val, y_train, y_val = train_test_split(train2[\"text\"], y, test_size = 0.05)\n",
    "tokenizer = Tokenizer(num_words = None)\n",
    "tokenizer.fit_on_texts(X_train)\n",
    "\n",
    "sequences_train = tokenizer.texts_to_sequences(X_train)\n",
    "\n",
    "\n",
    "X_train = pad_sequences(sequences_train, maxlen=max_len)\n",
    "\n",
    "sequences_val = tokenizer.texts_to_sequences(X_val)\n",
    "X_val = pad_sequences(sequences_val, maxlen = max_len)\n",
    "\n",
    "word_index = tokenizer.word_index\n",
    "                \n",
    "\n",
    "embedding_matrix = np.zeros((len(word_index) + 1, dims))\n",
    "        \n",
    "for word, i in word_index.items():\n",
    "    embedding_vector = embeddings_dict.get(word)\n",
    "    if embedding_vector is not None:\n",
    "        embedding_matrix[i] = embedding_vector"
   ]
  },
  {
   "cell_type": "code",
   "execution_count": 105,
   "metadata": {},
   "outputs": [
    {
     "name": "stdout",
     "output_type": "stream",
     "text": [
      "Train on 872661 samples, validate on 45930 samples\n",
      "Epoch 1/50\n",
      "872661/872661 [==============================] - 2604s 3ms/step - loss: 0.8665 - accuracy: 0.6165 - val_loss: 0.8460 - val_accuracy: 0.6218\n",
      "\n",
      "Epoch 00001: val_loss improved from inf to 0.84605, saving model to model.h5\n",
      "Epoch 2/50\n",
      "872661/872661 [==============================] - 2645s 3ms/step - loss: 0.8252 - accuracy: 0.6345 - val_loss: 0.8255 - val_accuracy: 0.6337\n",
      "\n",
      "Epoch 00002: val_loss improved from 0.84605 to 0.82545, saving model to model.h5\n",
      "Epoch 3/50\n",
      "872661/872661 [==============================] - 2682s 3ms/step - loss: 0.8086 - accuracy: 0.6416 - val_loss: 0.8116 - val_accuracy: 0.6407\n",
      "\n",
      "Epoch 00003: val_loss improved from 0.82545 to 0.81156, saving model to model.h5\n",
      "Epoch 4/50\n",
      "872661/872661 [==============================] - 2696s 3ms/step - loss: 0.7978 - accuracy: 0.6467 - val_loss: 0.8078 - val_accuracy: 0.6433\n",
      "\n",
      "Epoch 00004: val_loss improved from 0.81156 to 0.80783, saving model to model.h5\n",
      "Epoch 5/50\n",
      "872661/872661 [==============================] - 2607s 3ms/step - loss: 0.7898 - accuracy: 0.6502 - val_loss: 0.7999 - val_accuracy: 0.6462\n",
      "\n",
      "Epoch 00005: val_loss improved from 0.80783 to 0.79994, saving model to model.h5\n",
      "Epoch 6/50\n",
      "872661/872661 [==============================] - 2625s 3ms/step - loss: 0.7830 - accuracy: 0.6531 - val_loss: 0.7971 - val_accuracy: 0.6469\n",
      "\n",
      "Epoch 00006: val_loss improved from 0.79994 to 0.79705, saving model to model.h5\n",
      "Epoch 7/50\n",
      "872661/872661 [==============================] - 2603s 3ms/step - loss: 0.7776 - accuracy: 0.6557 - val_loss: 0.7955 - val_accuracy: 0.6475\n",
      "\n",
      "Epoch 00007: val_loss improved from 0.79705 to 0.79550, saving model to model.h5\n",
      "Epoch 8/50\n",
      "872661/872661 [==============================] - 2680s 3ms/step - loss: 0.7731 - accuracy: 0.6578 - val_loss: 0.8052 - val_accuracy: 0.6445\n",
      "\n",
      "Epoch 00008: val_loss did not improve from 0.79550\n",
      "Epoch 9/50\n",
      "872661/872661 [==============================] - 2665s 3ms/step - loss: 0.7695 - accuracy: 0.6592 - val_loss: 0.7894 - val_accuracy: 0.6498\n",
      "\n",
      "Epoch 00009: val_loss improved from 0.79550 to 0.78939, saving model to model.h5\n",
      "Epoch 10/50\n",
      "872661/872661 [==============================] - 2654s 3ms/step - loss: 0.7658 - accuracy: 0.6609 - val_loss: 0.7879 - val_accuracy: 0.6500\n",
      "\n",
      "Epoch 00010: val_loss improved from 0.78939 to 0.78791, saving model to model.h5\n",
      "Epoch 11/50\n",
      "872661/872661 [==============================] - 2647s 3ms/step - loss: 0.7633 - accuracy: 0.6618 - val_loss: 0.7865 - val_accuracy: 0.6512\n",
      "\n",
      "Epoch 00011: val_loss improved from 0.78791 to 0.78654, saving model to model.h5\n",
      "Epoch 12/50\n",
      "872661/872661 [==============================] - 2645s 3ms/step - loss: 0.7601 - accuracy: 0.6637 - val_loss: 0.7877 - val_accuracy: 0.6523\n",
      "\n",
      "Epoch 00012: val_loss did not improve from 0.78654\n",
      "Epoch 13/50\n",
      "872661/872661 [==============================] - 2638s 3ms/step - loss: 0.7579 - accuracy: 0.6645 - val_loss: 0.7965 - val_accuracy: 0.6484\n",
      "\n",
      "Epoch 00013: val_loss did not improve from 0.78654\n",
      "Epoch 14/50\n",
      "872661/872661 [==============================] - 2634s 3ms/step - loss: 0.7557 - accuracy: 0.6656 - val_loss: 0.7877 - val_accuracy: 0.6545\n",
      "\n",
      "Epoch 00014: val_loss did not improve from 0.78654\n"
     ]
    },
    {
     "data": {
      "text/plain": [
       "<keras.callbacks.callbacks.History at 0x7fafbfda3320>"
      ]
     },
     "execution_count": 105,
     "metadata": {},
     "output_type": "execute_result"
    }
   ],
   "source": [
    "embedding_layer = Embedding(len(word_index) + 1, embedding_dim, weights = [embedding_matrix], input_length = max_len, trainable = False) \n",
    "input= Input(shape=(max_len, ), dtype = 'int32')\n",
    "embedded_sequences = embedding_layer(input) \n",
    "x = Bidirectional(GRU(50, return_sequences=True))(embedded_sequences)\n",
    "x = GlobalMaxPooling1D()(x)\n",
    "x = Dense(50, activation = 'relu')(x)\n",
    "x = Dropout(0.1)(x)\n",
    "output = Dense(num_classes, activation='softmax')(x)\n",
    "model = Model(inputs=input, outputs=output)\n",
    "model.compile(loss=\"categorical_crossentropy\", optimizer='adam', metrics=['accuracy'])\n",
    "        \n",
    "checkpoint = ModelCheckpoint(\"modelTwo\", monitor='val_loss', verbose=1, save_best_only=True, mode='min')\n",
    "early = EarlyStopping(monitor='val_loss', mode='min', patience=3)\n",
    "callback = [checkpoint, early]\n",
    "        \n",
    "model.fit(X_train, y_train, batch_size=batch_size, epochs=epochs, validation_data=(X_val, y_val), callbacks=callback, class_weight = class_weights)"
   ]
  },
  {
   "cell_type": "code",
   "execution_count": 107,
   "metadata": {},
   "outputs": [],
   "source": [
    "from sklearn.metrics import accuracy_score\n",
    "\n",
    "\n",
    "sequences_test = tokenizer.texts_to_sequences(test2[\"text\"])\n",
    "X_test = pad_sequences(sequences_test, maxlen=max_len)\n",
    "\n",
    "# Predictions\n",
    "pred_test = model.predict(X_test)\n",
    "pred_test = [np.argmax(x) for x in pred_test]\n",
    "# Actual\n",
    "true_test = onehot(test2[\"newgroup\"],3)\n",
    "true_test = [np.argmax(x) for x in true_test]\n",
    "\n",
    "# Find accuracies\n",
    "accuracy = accuracy_score(true_test, pred_test)"
   ]
  },
  {
   "cell_type": "code",
   "execution_count": 108,
   "metadata": {},
   "outputs": [],
   "source": [
    "# Actual\n",
    "true_test = onehot(test2[\"newgroup\"], 5)\n",
    "true_test = [np.argmax(x) for x in true_test]\n",
    "\n",
    "# Find accuracies\n",
    "accuracy = accuracy_score(true_test, pred_test)"
   ]
  },
  {
   "cell_type": "code",
   "execution_count": 109,
   "metadata": {},
   "outputs": [
    {
     "data": {
      "text/plain": [
       "0.6566135999442625"
      ]
     },
     "execution_count": 109,
     "metadata": {},
     "output_type": "execute_result"
    }
   ],
   "source": [
    "accuracy"
   ]
  },
  {
   "cell_type": "code",
   "execution_count": 110,
   "metadata": {},
   "outputs": [
    {
     "data": {
      "image/png": "[encoded data removed]",
      "text/plain": [
       "<Figure size 432x288 with 2 Axes>"
      ]
     },
     "metadata": {
      "needs_background": "light"
     },
     "output_type": "display_data"
    }
   ],
   "source": [
    "from sklearn.metrics import confusion_matrix\n",
    "import matplotlib.pyplot as plt\n",
    "cm = confusion_matrix(true_test, pred_test)\n",
    "cm = cm.astype('float') / cm.sum(axis=1)[:, np.newaxis]\n",
    "\n",
    "plt.imshow(cm, interpolation='nearest', cmap=plt.cm.Blues)\n",
    "\n",
    "class_name = [\"Liberal\", \"Moderate\", \"Conservative\"]\n",
    "plt.colorbar()\n",
    "tick_marks = np.arange(len(class_name))\n",
    "plt.xticks(tick_marks, class_name, rotation=45)\n",
    "plt.yticks(tick_marks, class_name)\n",
    "\n",
    "plt.show()"
   ]
  },
  {
   "cell_type": "code",
   "execution_count": null,
   "metadata": {},
   "outputs": [],
   "source": []
  }
 ],
 "metadata": {
  "kernelspec": {
   "display_name": "Python 3",
   "language": "python",
   "name": "python3"
  },
  "language_info": {
   "codemirror_mode": {
    "name": "ipython",
    "version": 3
   },
   "file_extension": ".py",
   "mimetype": "text/x-python",
   "name": "python",
   "nbconvert_exporter": "python",
   "pygments_lexer": "ipython3",
   "version": "3.7.3"
  }
 },
 "nbformat": 4,
 "nbformat_minor": 4
}
